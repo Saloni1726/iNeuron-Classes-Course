{
 "cells": [
  {
   "cell_type": "markdown",
   "metadata": {},
   "source": [
    "# Exception Handling Assignment"
   ]
  },
  {
   "cell_type": "markdown",
   "metadata": {},
   "source": [
    "## Write a function to compute 5/0 and use try/except to catch the exceptions."
   ]
  },
  {
   "cell_type": "code",
   "execution_count": 4,
   "metadata": {},
   "outputs": [
    {
     "name": "stdout",
     "output_type": "stream",
     "text": [
      "Enter a:3\n",
      "Enter b:0\n",
      "can't divide by zero\n"
     ]
    }
   ],
   "source": [
    "def divideByzero(a,b):\n",
    "    \n",
    "    try:        \n",
    "        c = a/b;    \n",
    "        print(\"a/b = %d\"%c)    \n",
    "    except:    \n",
    "        print(\"can't divide by zero\")  \n",
    "a = int(input(\"Enter a:\"))    \n",
    "b = int(input(\"Enter b:\"))\n",
    "divideByzero(a,b)"
   ]
  },
  {
   "cell_type": "markdown",
   "metadata": {},
   "source": [
    "## Implement a Python program to generate all sentences where subject is in\n",
    "## [\"Americans\", \"Indians\"] and verb is in [\"Play\", \"watch\"] and the object is in[\"Baseball\",\"cricket\"].\n",
    "## Output should come as below:\n",
    "## Americans play Baseball.\n",
    "## Americans play Cricket.\n",
    "## Americans watch Baseball.\n",
    "## Americans watch Cricket.\n",
    "## Indians play Baseball.\n",
    "## Indians play Cricket.\n",
    "## Indians watch Baseball.\n",
    "## Indians watch Cricket."
   ]
  },
  {
   "cell_type": "code",
   "execution_count": 6,
   "metadata": {},
   "outputs": [
    {
     "name": "stdout",
     "output_type": "stream",
     "text": [
      "Americans play Baseball\n",
      "Americans play Cricket\n",
      "Americans watch Baseball\n",
      "Americans watch Cricket\n",
      "Indians play Baseball\n",
      "Indians play Cricket\n",
      "Indians watch Baseball\n",
      "Indians watch Cricket\n"
     ]
    }
   ],
   "source": [
    "subject=[\"Americans\",\"Indians\"]\n",
    "verb=[\"play\",\"watch\"]\n",
    "objects=[\"Baseball\",\"Cricket\"]\n",
    "for sub in subject:\n",
    "    for ver in verb:\n",
    "        for obj in objects:\n",
    "            result=sub + ' ' +ver + ' ' +obj\n",
    "            print(result)"
   ]
  },
  {
   "cell_type": "code",
   "execution_count": null,
   "metadata": {},
   "outputs": [],
   "source": []
  }
 ],
 "metadata": {
  "kernelspec": {
   "display_name": "Python 3",
   "language": "python",
   "name": "python3"
  },
  "language_info": {
   "codemirror_mode": {
    "name": "ipython",
    "version": 3
   },
   "file_extension": ".py",
   "mimetype": "text/x-python",
   "name": "python",
   "nbconvert_exporter": "python",
   "pygments_lexer": "ipython3",
   "version": "3.7.3"
  }
 },
 "nbformat": 4,
 "nbformat_minor": 2
}
